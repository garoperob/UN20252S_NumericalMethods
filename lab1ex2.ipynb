{
 "cells": [
  {
   "cell_type": "code",
   "execution_count": 1,
   "id": "34938796",
   "metadata": {},
   "outputs": [],
   "source": [
    "import numpy as np\n",
    "import matplotlib.pyplot as plt\n",
    "import sympy as sy\n",
    "import pandas as pd"
   ]
  },
  {
   "cell_type": "code",
   "execution_count": 2,
   "id": "77f7a7a3",
   "metadata": {},
   "outputs": [],
   "source": [
    "def plotIteration(data, x_col, y_cols, ylabels, xlabel, ylabel, title=None):\n",
    "    # Convert to numpy array for easier indexing\n",
    "    data = np.array(data)\n",
    "\n",
    "    # Extract columns\n",
    "    x = data[:, x_col]\n",
    "\n",
    "    plt.figure(figsize=(6, 4))\n",
    "    for y_col, y_label in zip(y_cols, ylabels):\n",
    "      y = data[:, y_col]\n",
    "      plt.plot(x, y, marker=\"o\", linestyle=\"-\", label=f\" {y_label} vs {xlabel}\")\n",
    "\n",
    "    # Plot\n",
    "\n",
    "    plt.plot(x, y, marker=\"o\", linestyle=\"-\", label=f\"col {y_col} vs col {x_col}\")\n",
    "    plt.xlabel(xlabel if xlabel else f\"Column {x_col}\")\n",
    "    plt.ylabel(ylabel if ylabel else f\"Column {y_col}\")\n",
    "    plt.title(title if title else f\"Plot of col {y_col} vs col {x_col}\")\n",
    "    plt.legend()\n",
    "    plt.grid(True)\n",
    "    plt.show()"
   ]
  }
 ],
 "metadata": {
  "kernelspec": {
   "display_name": "Python 3",
   "language": "python",
   "name": "python3"
  },
  "language_info": {
   "codemirror_mode": {
    "name": "ipython",
    "version": 3
   },
   "file_extension": ".py",
   "mimetype": "text/x-python",
   "name": "python",
   "nbconvert_exporter": "python",
   "pygments_lexer": "ipython3",
   "version": "3.12.1"
  }
 },
 "nbformat": 4,
 "nbformat_minor": 5
}
