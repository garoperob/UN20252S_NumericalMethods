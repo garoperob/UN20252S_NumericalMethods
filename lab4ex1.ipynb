{
 "cells": [
  {
   "cell_type": "markdown",
   "id": "68563927",
   "metadata": {},
   "source": [
    "Desarrolle un programa que construya la recta de regresión $y = Ax + B$ que mejor\n",
    "se ajusta en el sentido de los mínimos cuadrados a los $N$ datos\n",
    "\n",
    "$(x_1, y_1), (x_2, y_2)...,(x_n, y_n)$"
   ]
  },
  {
   "cell_type": "code",
   "execution_count": 1,
   "id": "1758aa02",
   "metadata": {},
   "outputs": [],
   "source": [
    "import numpy as np\n",
    "import pandas as pd\n",
    "import sympy as sy\n",
    "import matplotlib.pyplot as plt"
   ]
  },
  {
   "cell_type": "code",
   "execution_count": null,
   "id": "5d8baf47",
   "metadata": {},
   "outputs": [
    {
     "name": "stdout",
     "output_type": "stream",
     "text": [
      "The number of data enter in the y-axis values is different from the x-axis value. Please, enter the same numbers of x-axis values\n",
      "Input user finished\n"
     ]
    }
   ],
   "source": [
    "xVals = input(\"Enter x-axis values, each one followed by a blank: \")\n",
    "xArr = xVals.strip().split(' ')\n",
    "sizeX = len(xArr)\n",
    "\n",
    "while(True):\n",
    "    yVals = input(\"Enter y-axis values, each one followed by a blank\")\n",
    "    yArr = yVals.strip().split(' ')\n",
    "    sizeY = len(yArr)\n",
    "    if sizeY == sizeX:\n",
    "        break\n",
    "    else:\n",
    "        print(\"The number of data enter in the y-axis values is \" \\\n",
    "        \"different from the x-axis values. Please, enter the same number of x-axis values in y-values\")\n",
    "\n",
    "print(\"Input user finished\")\n",
    "\n",
    "xNP_Arr = np.array(xVals)\n",
    "yNP_Arr = np.array(yVals)\n",
    "\n",
    "\n",
    "\n",
    "\n"
   ]
  }
 ],
 "metadata": {
  "kernelspec": {
   "display_name": "Python 3",
   "language": "python",
   "name": "python3"
  },
  "language_info": {
   "codemirror_mode": {
    "name": "ipython",
    "version": 3
   },
   "file_extension": ".py",
   "mimetype": "text/x-python",
   "name": "python",
   "nbconvert_exporter": "python",
   "pygments_lexer": "ipython3",
   "version": "3.13.5"
  }
 },
 "nbformat": 4,
 "nbformat_minor": 5
}
